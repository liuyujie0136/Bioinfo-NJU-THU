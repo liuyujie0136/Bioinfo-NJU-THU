{
 "metadata": {
  "language_info": {
   "codemirror_mode": {
    "name": "ipython",
    "version": 3
   },
   "file_extension": ".py",
   "mimetype": "text/x-python",
   "name": "python",
   "nbconvert_exporter": "python",
   "pygments_lexer": "ipython3",
   "version": "3.7.3-final"
  },
  "orig_nbformat": 2,
  "kernelspec": {
   "name": "python3",
   "display_name": "Python 3.7.3 64-bit",
   "metadata": {
    "interpreter": {
     "hash": "1de884f2e9f38175d95ab12a15ee0340c94a01d6a0c025047c3922148adfc590"
    }
   }
  }
 },
 "nbformat": 4,
 "nbformat_minor": 2,
 "cells": [
  {
   "cell_type": "code",
   "execution_count": null,
   "metadata": {},
   "outputs": [],
   "source": [
    "## Load python packages\r\n",
    "import pandas as pd\r\n",
    "import numpy as np\r\n",
    "import matplotlib.pyplot as plt\r\n",
    "import seaborn as sns\r\n",
    "from sklearn.preprocessing import StandardScaler\r\n",
    "from sklearn.model_selection import train_test_split\r\n",
    "from sklearn.model_selection import StratifiedKFold\r\n",
    "from sklearn.model_selection import GridSearchCV\r\n",
    "from sklearn.tree import DecisionTreeClassifier\r\n",
    "from sklearn.svm import LinearSVC, SVC\r\n",
    "from sklearn.ensemble import RandomForestClassifier\r\n",
    "from sklearn.linear_model import LogisticRegression\r\n",
    "from sklearn.metrics import roc_curve,roc_auc_score,auc,precision_recall_curve,average_precision_score,accuracy_score"
   ]
  },
  {
   "cell_type": "code",
   "execution_count": null,
   "metadata": {},
   "outputs": [],
   "source": [
    "## Load and pre-process data\n",
    "data = pd.read_csv('C:/Users/10784/Documents/Python/MachineLearning/BreastCancer.csv',sep=',')\n",
    "feature = ['Cl.thickness', 'Cell.size', 'Cell.shape', 'Marg.adhesion', 'Epith.c.size', 'Bare.nuclei', 'Bl.cromatin', 'Normal.nucleoli', 'Mitoses']\n",
    "X=data[feature]\n",
    "Y=np.array(data['Class'].replace('benign',0).replace('malignant',1))"
   ]
  },
  {
   "cell_type": "code",
   "execution_count": null,
   "metadata": {},
   "outputs": [],
   "source": [
    "# 利用均值进行空缺值填充\n",
    "X=X.fillna(X.mean())\n",
    "\n",
    "# 使用standard/z-score scaling 对数据做scaling\n",
    "X_sd = StandardScaler().fit_transform(X)\n",
    "X = pd.DataFrame(X_sd)\n",
    "X.columns = feature"
   ]
  },
  {
   "cell_type": "code",
   "execution_count": null,
   "metadata": {},
   "outputs": [],
   "source": [
    "## Dividing data\n",
    "# Whole Data Set → Discovery Set/Validation Set\n",
    "random_state = np.random.RandomState(1289237)\n",
    "X_discovery, X_validation, y_discovery, y_validation = train_test_split(X, Y, test_size=0.2, random_state=random_state)\n",
    "X_discovery.index = range(len(X_discovery))\n",
    "X_validation.index = range(len(X_validation))\n",
    "print('number of discovery samples: {}, validation samples: {}'.format(X_discovery.shape[0], X_validation.shape[0]))\n",
    "\n",
    "# Discovery set → Training Set/Test Set\n",
    "# Using K-fold Cross-validation"
   ]
  },
  {
   "cell_type": "code",
   "execution_count": null,
   "metadata": {},
   "outputs": [],
   "source": [
    "## Feature selection based on cross-validation\n",
    "# 模型函数(clf_select)\n",
    "def clf_select(name):\n",
    "    if name =='DT':\n",
    "        clf = DecisionTreeClassifier(max_depth=5, min_samples_leaf=5, criterion='gini')\n",
    "    elif name =='DT_cv':\n",
    "        tree_para = {'max_depth': [3,5,7,9]}\n",
    "        clf = GridSearchCV(DecisionTreeClassifier(), tree_para, cv=5)\n",
    "    elif name == 'SVM':\n",
    "        clf = SVC(kernel='rbf', probability=True, C=1)\n",
    "    elif name == 'SVM_cv':\n",
    "        tree_para = { 'C':[0.00001, 0.0001, 0.001, 0.01, 0.1, 1, 10, 100, 1000, 10000, 100000]}\n",
    "        clf = GridSearchCV(SVC(kernel= 'rbf',probability=True), tree_para, cv=5)\n",
    "    elif name == 'RF':\n",
    "        clf = RandomForestClassifier(n_estimators=50, max_depth=5)\n",
    "    elif name == 'RF_cv':\n",
    "        tree_para = {'n_estimators': [25, 50, 75],'max_depth': [3, 4, 5]}\n",
    "        clf = GridSearchCV(RandomForestClassifier(), tree_para, cv=5)\n",
    "    elif name == 'LR_cv':\n",
    "        tree_para = {'C': [0.00001, 0.0001, 0.001, 0.01, 0.1, 1, 10, 100, 1000, 10000, 100000]}\n",
    "        clf = GridSearchCV(LogisticRegression(penalty='l2',solver='liblinear'), tree_para, cv=5)\n",
    "    return clf"
   ]
  },
  {
   "cell_type": "code",
   "execution_count": null,
   "metadata": {},
   "outputs": [],
   "source": [
    "# 计算可能的特征组合\n",
    "from itertools import combinations\n",
    "feature_list=[]\n",
    "for i in combinations(feature, 3):\n",
    "    feature_list.append(list(i))"
   ]
  },
  {
   "cell_type": "code",
   "execution_count": null,
   "metadata": {},
   "outputs": [],
   "source": [
    "# 对每个特征组合进行交叉验证计算5个子Test Sets的平均AUC\n",
    "result_train = pd.DataFrame(columns={'feature', 'AUC_mean'})\n",
    "result_test = pd.DataFrame(columns={'feature', 'AUC_mean'})\n",
    "\n",
    "for j in range(len(feature_list)):\n",
    "    #print(j)\n",
    "    # 交叉验证划分\n",
    "    skf = StratifiedKFold(n_splits=5,random_state=1,shuffle=True)\n",
    "    # 交叉验证中每一折结果\n",
    "    result_train_= pd.DataFrame(columns={'num', 'AUC'})\n",
    "    result_test_ = pd.DataFrame(columns={'num', 'AUC'})\n",
    "    n=0\n",
    "    for train, test in skf.split(list(X_discovery.index), y_discovery):\n",
    "        # Training and Test Set\n",
    "        X_train = X_discovery.loc[train,feature_list[j]]\n",
    "        X_test = X_discovery.loc[test,feature_list[j]]\n",
    "        y_train = y_discovery[train]\n",
    "        y_test = y_discovery[test]\n",
    "        \n",
    "        # 模型训练，我们自定义clf_select函数\n",
    "        clf = clf_select('DT_cv')\n",
    "        clf.fit(X_train, y_train)\n",
    "\n",
    "        # 模型预测结果\n",
    "        pred_proba_train = clf.predict_proba(X_train)\n",
    "        fpr_train, tpr_train, thresholds = roc_curve(y_train, pred_proba_train[:, 1])\n",
    "        roc_auc_train = auc(fpr_train, tpr_train)\n",
    "        pred_proba_test = clf.predict_proba(X_test)\n",
    "        fpr_test, tpr_test, thresholds = roc_curve(y_test, pred_proba_test[:, 1])\n",
    "        roc_auc_test = auc(fpr_test, tpr_test)\n",
    "\n",
    "        result_train_.loc[n,'num']=n\n",
    "        result_train_.loc[n,'AUC'] = roc_auc_train\n",
    "        result_test_.loc[n,'num']=n\n",
    "        result_test_.loc[n,'AUC'] = roc_auc_test\n",
    "        n=n+1\n",
    "\n",
    "    # 模型Test Set平均AUC计算\n",
    "    result_train.loc[j,'feature']=','.join(feature_list[j])\n",
    "    result_train.loc[j, 'AUC_mean'] = result_train_['AUC'].mean()\n",
    "    result_test.loc[j,'feature']=','.join(feature_list[j])\n",
    "    result_test.loc[j, 'AUC_mean'] = result_test_['AUC'].mean()"
   ]
  },
  {
   "cell_type": "code",
   "execution_count": null,
   "metadata": {},
   "outputs": [],
   "source": [
    "# 根据5个子Test Sets的平均AUC选择最佳特征组合\n",
    "best_feature=result_test.loc[result_test.sort_values('AUC_mean',ascending=False).index[0],'feature'].split(',')\n",
    "print(best_feature)"
   ]
  },
  {
   "cell_type": "code",
   "execution_count": null,
   "metadata": {},
   "outputs": [],
   "source": [
    "## Evaluate on validation set\n",
    "# 我们首先利用cross-validation选择好的超参数重新对整个Discovery set进行训练得到一个预测模型\n",
    "clf = clf_select('DT_cv')\n",
    "clf.fit(X_discovery.loc[:, best_feature], y_discovery)\n",
    "\n",
    "# 接着，我们利用该预测模型在Validation set上进行评估，绘制ROC\n",
    "y_predict=clf.predict(X_validation.loc[:, best_feature])\n",
    "proba=clf.predict_proba(X_validation.loc[:, best_feature]).T[1]\n",
    "fpr, tpr, thresholds = roc_curve(y_validation, proba)\n",
    "roc_auc = auc(fpr, tpr)"
   ]
  },
  {
   "cell_type": "code",
   "execution_count": null,
   "metadata": {},
   "outputs": [],
   "source": [
    "print(\"fpr:\", fpr)\n",
    "print(\"tpr:\", tpr)"
   ]
  },
  {
   "cell_type": "code",
   "execution_count": null,
   "metadata": {},
   "outputs": [],
   "source": [
    "# 画ROC曲线\n",
    "from plotnine import ggplot, geom_line, aes, labs\n",
    "ggplot() + geom_line(aes(x=fpr,y=tpr)) + labs(title=\"ROC curve of test data\", x=\"FPR\", y=\"TPR\")"
   ]
  }
 ]
}